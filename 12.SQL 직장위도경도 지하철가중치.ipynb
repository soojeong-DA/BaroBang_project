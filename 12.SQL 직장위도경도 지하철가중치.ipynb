{
 "cells": [
  {
   "cell_type": "markdown",
   "metadata": {
    "toc": true
   },
   "source": [
    "<h1>Table of Contents<span class=\"tocSkip\"></span></h1>\n",
    "<div class=\"toc\"><ul class=\"toc-item\"><li><span><a href=\"#1.-직장-입력-시-위도경도-반환\" data-toc-modified-id=\"1.-직장-입력-시-위도경도-반환-1\">1. 직장 입력 시 위도경도 반환</a></span></li><li><span><a href=\"#2.-직장과의-거리,-지하철-가중치\" data-toc-modified-id=\"2.-직장과의-거리,-지하철-가중치-2\">2. 직장과의 거리, 지하철 가중치</a></span></li></ul></div>"
   ]
  },
  {
   "cell_type": "code",
   "execution_count": 25,
   "metadata": {},
   "outputs": [],
   "source": [
    "import requests\n",
    "from urllib.parse import urlparse\n",
    "import urllib.request\n",
    "from tqdm import tqdm\n",
    "import numpy as np\n",
    "import pandas as pd\n",
    "import geopandas\n",
    "import psycopg2   # PostgreSQL 연동 어댑터/드라이버\n",
    "import json\n",
    "import os\n",
    "import ssl\n",
    "\n",
    "import warnings\n",
    "warnings.filterwarnings(action='ignore')"
   ]
  },
  {
   "cell_type": "markdown",
   "metadata": {},
   "source": [
    "## 1. 직장 입력 시 위도경도 반환"
   ]
  },
  {
   "cell_type": "code",
   "execution_count": 22,
   "metadata": {},
   "outputs": [],
   "source": [
    "# 주소 검색 함수 정의\n",
    "def latlon():\n",
    "    address = input('직장 주소 : ')\n",
    "    url = \"https://dapi.kakao.com/v2/local/search/address.json?&query=\" + address\n",
    "    result = requests.get(urlparse(url).geturl(),\n",
    "                          headers={\"Authorization\":\"KakaoAK *****\"})\n",
    "    json_obj = result.json()\n",
    "    global val   # 전역 변수를 지역 범위에서 사용하고 싶을 경우\n",
    "    for document in json_obj['documents']:\n",
    "        # 값이 NoneType 일 경우의 오류 방지\n",
    "        try:\n",
    "            val = [document['y'], document['x']]\n",
    "        except:\n",
    "            val = [0, 0]\n",
    "    return val"
   ]
  },
  {
   "cell_type": "code",
   "execution_count": 23,
   "metadata": {},
   "outputs": [
    {
     "name": "stdout",
     "output_type": "stream",
     "text": [
      "직장 주소 : 서울 서초구 서초1동 효령로 335\n"
     ]
    },
    {
     "data": {
      "text/plain": [
       "['37.4864987317089', '127.020663860591']"
      ]
     },
     "execution_count": 23,
     "metadata": {},
     "output_type": "execute_result"
    }
   ],
   "source": [
    "latlon()"
   ]
  },
  {
   "cell_type": "markdown",
   "metadata": {},
   "source": [
    "## 2. 직장과의 거리, 지하철 가중치"
   ]
  },
  {
   "cell_type": "code",
   "execution_count": 72,
   "metadata": {},
   "outputs": [],
   "source": [
    "conn_string = \"host='localhost' dbname ='house' user='postgres' password='****'\"\n",
    "conn = psycopg2.connect(conn_string)\n",
    "cur = conn.cursor()"
   ]
  },
  {
   "cell_type": "code",
   "execution_count": 115,
   "metadata": {},
   "outputs": [],
   "source": [
    "def full(input_rent,input_deposit): \n",
    "    cur.execute(f\"SELECT address, rent, deposit::integer, year::integer, station_ar, station_na, transfer FROM officetels \\\n",
    "                WHERE rent='{input_rent}'\\\n",
    "                and deposit<='{input_deposit}'\") \n",
    "    row = cur.fetchall() \n",
    "    \n",
    "    subway_score = []\n",
    "    for i in range(len(row)):\n",
    "        # 초역세권/역세권\n",
    "        score = 0\n",
    "        if row[i][4] == 2:\n",
    "            score = 5\n",
    "        elif row[i][4] == 1:\n",
    "            score = 3\n",
    "        elif row[i][4] == 0:\n",
    "            score = 1\n",
    "        \n",
    "        # 환승역여부\n",
    "        score2 = 0\n",
    "        if row[i][6] == 1:\n",
    "            score2 = 5\n",
    "        elif row[i][6] == 0:\n",
    "            score2 = 1\n",
    "        \n",
    "        subway_score.append(score+score2)\n",
    "    \n",
    "    row = pd.DataFrame(row, columns=['address','rent','deposit','year','station_area','station_name','transfer'])\n",
    "    row['sub_score'] = subway_score\n",
    "    row = row[['address','rent','deposit','year','station_name','sub_score']].sort_values(by=['sub_score'], ascending=False).reset_index(drop=True)\n",
    "    \n",
    "    return row.head(10)"
   ]
  },
  {
   "cell_type": "code",
   "execution_count": 116,
   "metadata": {},
   "outputs": [],
   "source": [
    "def month(input_rent, input_deposit, input_pay):\n",
    "    cur.execute(f\"SELECT address, rent, deposit::integer, pay::integer, year::integer, station_ar, station_na, transfer FROM officetels \\\n",
    "                  WHERE rent='{input_rent}' and deposit <= '{input_deposit}' \\\n",
    "                  and pay <= '{input_pay}'\") \n",
    "    row = cur.fetchall()\n",
    "    \n",
    "    subway_score = []\n",
    "    for i in range(len(row)):\n",
    "        # 초역세권/역세권\n",
    "        score = 0\n",
    "        if row[i][4] == 2:\n",
    "            score = 10\n",
    "        elif row[i][4] == 1:\n",
    "            score = 5\n",
    "        elif row[i][4] == 0:\n",
    "            score = 0\n",
    "        \n",
    "        # 환승역여부\n",
    "        score2 = 0\n",
    "        if row[i][6] == 1:\n",
    "            score2 = 5\n",
    "        elif row[i][6] == 0:\n",
    "            score2 = 0\n",
    "        \n",
    "        subway_score.append(score+score2)\n",
    "    \n",
    "    row = pd.DataFrame(row, columns=['address','rent','deposit','year','station_area','station_name','transfer'])\n",
    "    row['sub_score'] = subway_score\n",
    "    row = row[['address','rent','deposit','year','station_name','sub_score']].sort_values(by=['sub_score'], ascending=False).reset_index(drop=True)\n",
    "        \n",
    "    return row.head(10)  "
   ]
  },
  {
   "cell_type": "code",
   "execution_count": 117,
   "metadata": {},
   "outputs": [],
   "source": [
    "def condition(input_rent):\n",
    "    if input_rent =='전세':\n",
    "        input_deposit = input(\"deposit: \")\n",
    "        return full(input_rent,input_deposit)\n",
    "    elif input_rent == '월세':\n",
    "        input_deposit = input(\"deposit: \")\n",
    "        input_pay = input(\"pay: \")\n",
    "        return month(input_rent,input_deposit,input_pay)"
   ]
  },
  {
   "cell_type": "code",
   "execution_count": 118,
   "metadata": {},
   "outputs": [
    {
     "name": "stdout",
     "output_type": "stream",
     "text": [
      "rent : 전세\n",
      "deposit: 1000\n"
     ]
    },
    {
     "data": {
      "text/html": [
       "<div>\n",
       "<style scoped>\n",
       "    .dataframe tbody tr th:only-of-type {\n",
       "        vertical-align: middle;\n",
       "    }\n",
       "\n",
       "    .dataframe tbody tr th {\n",
       "        vertical-align: top;\n",
       "    }\n",
       "\n",
       "    .dataframe thead th {\n",
       "        text-align: right;\n",
       "    }\n",
       "</style>\n",
       "<table border=\"1\" class=\"dataframe\">\n",
       "  <thead>\n",
       "    <tr style=\"text-align: right;\">\n",
       "      <th></th>\n",
       "      <th>address</th>\n",
       "      <th>rent</th>\n",
       "      <th>deposit</th>\n",
       "      <th>year</th>\n",
       "      <th>station_name</th>\n",
       "      <th>sub_score</th>\n",
       "    </tr>\n",
       "  </thead>\n",
       "  <tbody>\n",
       "    <tr>\n",
       "      <th>0</th>\n",
       "      <td>서울특별시 중구 을지로6가 을지로 254</td>\n",
       "      <td>전세</td>\n",
       "      <td>1000</td>\n",
       "      <td>2004.0</td>\n",
       "      <td>['동대문역사문화공원역 2호선' '동대문역사문화공원역 4호선' '동대문역사문화공원역...</td>\n",
       "      <td>15</td>\n",
       "    </tr>\n",
       "    <tr>\n",
       "      <th>1</th>\n",
       "      <td>서울특별시 서초구 서초동 반포대로30길 9</td>\n",
       "      <td>전세</td>\n",
       "      <td>1000</td>\n",
       "      <td>2013.0</td>\n",
       "      <td>['교대역 3호선' '교대역 2호선' '서초역 2호선']</td>\n",
       "      <td>15</td>\n",
       "    </tr>\n",
       "    <tr>\n",
       "      <th>2</th>\n",
       "      <td>서울특별시 관악구 남현동 승방4길 26</td>\n",
       "      <td>전세</td>\n",
       "      <td>1000</td>\n",
       "      <td>2003.0</td>\n",
       "      <td>['사당역 2호선' '사당역 4호선']</td>\n",
       "      <td>15</td>\n",
       "    </tr>\n",
       "    <tr>\n",
       "      <th>3</th>\n",
       "      <td>서울특별시 서초구 서초동 반포대로30길 9</td>\n",
       "      <td>전세</td>\n",
       "      <td>1000</td>\n",
       "      <td>2013.0</td>\n",
       "      <td>['교대역 3호선' '교대역 2호선' '서초역 2호선']</td>\n",
       "      <td>15</td>\n",
       "    </tr>\n",
       "    <tr>\n",
       "      <th>4</th>\n",
       "      <td>서울특별시 영등포구 영등포동1가 경인로114길 12</td>\n",
       "      <td>전세</td>\n",
       "      <td>1000</td>\n",
       "      <td>2012.0</td>\n",
       "      <td>['신길역 5호선' '신길역 1호선']</td>\n",
       "      <td>15</td>\n",
       "    </tr>\n",
       "    <tr>\n",
       "      <th>5</th>\n",
       "      <td>서울특별시 은평구 응암동 응암로29길 18-3</td>\n",
       "      <td>전세</td>\n",
       "      <td>1000</td>\n",
       "      <td>2005.0</td>\n",
       "      <td>['응암역 6호선']</td>\n",
       "      <td>10</td>\n",
       "    </tr>\n",
       "    <tr>\n",
       "      <th>6</th>\n",
       "      <td>서울특별시 은평구 불광동 통일로 884</td>\n",
       "      <td>전세</td>\n",
       "      <td>500</td>\n",
       "      <td>2003.0</td>\n",
       "      <td>['연신내역 6호선' '연신내역 3호선']</td>\n",
       "      <td>10</td>\n",
       "    </tr>\n",
       "    <tr>\n",
       "      <th>7</th>\n",
       "      <td>서울특별시 마포구 노고산동 서강로16길 49</td>\n",
       "      <td>전세</td>\n",
       "      <td>1000</td>\n",
       "      <td>2003.0</td>\n",
       "      <td>['신촌역 2호선' '서강대역 경의선']</td>\n",
       "      <td>10</td>\n",
       "    </tr>\n",
       "    <tr>\n",
       "      <th>8</th>\n",
       "      <td>서울특별시 서초구 서초동 반포대로14길 36</td>\n",
       "      <td>전세</td>\n",
       "      <td>1000</td>\n",
       "      <td>1992.0</td>\n",
       "      <td>['남부터미널역 3호선']</td>\n",
       "      <td>10</td>\n",
       "    </tr>\n",
       "    <tr>\n",
       "      <th>9</th>\n",
       "      <td>서울특별시 금천구 독산동</td>\n",
       "      <td>전세</td>\n",
       "      <td>1000</td>\n",
       "      <td>2017.0</td>\n",
       "      <td>['청담역 7호선']</td>\n",
       "      <td>10</td>\n",
       "    </tr>\n",
       "  </tbody>\n",
       "</table>\n",
       "</div>"
      ],
      "text/plain": [
       "                        address rent  deposit    year  \\\n",
       "0        서울특별시 중구 을지로6가 을지로 254   전세     1000  2004.0   \n",
       "1       서울특별시 서초구 서초동 반포대로30길 9   전세     1000  2013.0   \n",
       "2         서울특별시 관악구 남현동 승방4길 26   전세     1000  2003.0   \n",
       "3       서울특별시 서초구 서초동 반포대로30길 9   전세     1000  2013.0   \n",
       "4  서울특별시 영등포구 영등포동1가 경인로114길 12   전세     1000  2012.0   \n",
       "5     서울특별시 은평구 응암동 응암로29길 18-3   전세     1000  2005.0   \n",
       "6         서울특별시 은평구 불광동 통일로 884   전세      500  2003.0   \n",
       "7      서울특별시 마포구 노고산동 서강로16길 49   전세     1000  2003.0   \n",
       "8      서울특별시 서초구 서초동 반포대로14길 36   전세     1000  1992.0   \n",
       "9                 서울특별시 금천구 독산동   전세     1000  2017.0   \n",
       "\n",
       "                                        station_name  sub_score  \n",
       "0  ['동대문역사문화공원역 2호선' '동대문역사문화공원역 4호선' '동대문역사문화공원역...         15  \n",
       "1                    ['교대역 3호선' '교대역 2호선' '서초역 2호선']         15  \n",
       "2                              ['사당역 2호선' '사당역 4호선']         15  \n",
       "3                    ['교대역 3호선' '교대역 2호선' '서초역 2호선']         15  \n",
       "4                              ['신길역 5호선' '신길역 1호선']         15  \n",
       "5                                        ['응암역 6호선']         10  \n",
       "6                            ['연신내역 6호선' '연신내역 3호선']         10  \n",
       "7                             ['신촌역 2호선' '서강대역 경의선']         10  \n",
       "8                                     ['남부터미널역 3호선']         10  \n",
       "9                                        ['청담역 7호선']         10  "
      ]
     },
     "execution_count": 118,
     "metadata": {},
     "output_type": "execute_result"
    }
   ],
   "source": [
    "input_rent = input('rent : ')\n",
    "condition(input_rent)"
   ]
  },
  {
   "cell_type": "code",
   "execution_count": null,
   "metadata": {},
   "outputs": [],
   "source": []
  }
 ],
 "metadata": {
  "kernelspec": {
   "display_name": "Python 3",
   "language": "python",
   "name": "python3"
  },
  "language_info": {
   "codemirror_mode": {
    "name": "ipython",
    "version": 3
   },
   "file_extension": ".py",
   "mimetype": "text/x-python",
   "name": "python",
   "nbconvert_exporter": "python",
   "pygments_lexer": "ipython3",
   "version": "3.8.3"
  },
  "toc": {
   "base_numbering": 1,
   "nav_menu": {},
   "number_sections": false,
   "sideBar": false,
   "skip_h1_title": false,
   "title_cell": "Table of Contents",
   "title_sidebar": "Contents",
   "toc_cell": true,
   "toc_position": {},
   "toc_section_display": true,
   "toc_window_display": false
  }
 },
 "nbformat": 4,
 "nbformat_minor": 4
}
